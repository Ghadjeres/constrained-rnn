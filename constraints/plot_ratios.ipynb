{
 "cells": [
  {
   "cell_type": "code",
   "execution_count": 111,
   "metadata": {},
   "outputs": [],
   "source": [
    "from matplotlib import pyplot as plt"
   ]
  },
  {
   "cell_type": "code",
   "execution_count": 113,
   "metadata": {},
   "outputs": [],
   "source": [
    "import pandas as pd\n",
    "import seaborn as sns\n",
    "import numpy as np"
   ]
  },
  {
   "cell_type": "code",
   "execution_count": 114,
   "metadata": {},
   "outputs": [],
   "source": [
    "%matplotlib inline"
   ]
  },
  {
   "cell_type": "code",
   "execution_count": 115,
   "metadata": {},
   "outputs": [
    {
     "data": {
      "text/html": [
       "<div>\n",
       "<table border=\"1\" class=\"dataframe\">\n",
       "  <thead>\n",
       "    <tr style=\"text-align: right;\">\n",
       "      <th></th>\n",
       "      <th>no_constraint</th>\n",
       "      <th>constraint</th>\n",
       "      <th>num_enforced_constraints</th>\n",
       "    </tr>\n",
       "  </thead>\n",
       "  <tbody>\n",
       "    <tr>\n",
       "      <th>0</th>\n",
       "      <td>-43.123283</td>\n",
       "      <td>-18.139294</td>\n",
       "      <td>2</td>\n",
       "    </tr>\n",
       "    <tr>\n",
       "      <th>1</th>\n",
       "      <td>-37.942902</td>\n",
       "      <td>-16.725777</td>\n",
       "      <td>2</td>\n",
       "    </tr>\n",
       "    <tr>\n",
       "      <th>2</th>\n",
       "      <td>-39.571312</td>\n",
       "      <td>-16.087782</td>\n",
       "      <td>2</td>\n",
       "    </tr>\n",
       "    <tr>\n",
       "      <th>3</th>\n",
       "      <td>-42.211540</td>\n",
       "      <td>-15.445932</td>\n",
       "      <td>2</td>\n",
       "    </tr>\n",
       "    <tr>\n",
       "      <th>4</th>\n",
       "      <td>-50.473736</td>\n",
       "      <td>-27.365368</td>\n",
       "      <td>2</td>\n",
       "    </tr>\n",
       "  </tbody>\n",
       "</table>\n",
       "</div>"
      ],
      "text/plain": [
       "<div>\n",
       "<table border=\"1\" class=\"dataframe\">\n",
       "  <thead>\n",
       "    <tr style=\"text-align: right;\">\n",
       "      <th></th>\n",
       "      <th>no_constraint</th>\n",
       "      <th>constraint</th>\n",
       "      <th>num_enforced_constraints</th>\n",
       "    </tr>\n",
       "  </thead>\n",
       "  <tbody>\n",
       "    <tr>\n",
       "      <th>0</th>\n",
       "      <td>-43.123283</td>\n",
       "      <td>-18.139294</td>\n",
       "      <td>2</td>\n",
       "    </tr>\n",
       "    <tr>\n",
       "      <th>1</th>\n",
       "      <td>-37.942902</td>\n",
       "      <td>-16.725777</td>\n",
       "      <td>2</td>\n",
       "    </tr>\n",
       "    <tr>\n",
       "      <th>2</th>\n",
       "      <td>-39.571312</td>\n",
       "      <td>-16.087782</td>\n",
       "      <td>2</td>\n",
       "    </tr>\n",
       "    <tr>\n",
       "      <th>3</th>\n",
       "      <td>-42.211540</td>\n",
       "      <td>-15.445932</td>\n",
       "      <td>2</td>\n",
       "    </tr>\n",
       "    <tr>\n",
       "      <th>4</th>\n",
       "      <td>-50.473736</td>\n",
       "      <td>-27.365368</td>\n",
       "      <td>2</td>\n",
       "    </tr>\n",
       "  </tbody>\n",
       "</table>\n",
       "</div>"
      ]
     },
     "execution_count": 115,
     "metadata": {},
     "output_type": "execute_result"
    }
   ],
   "source": [
    "df = pd.read_csv('constraints/results/ratios/2017_08_28T13_37_20.csv', \n",
    "                 header=0)\n",
    "\n",
    "df.head()"
   ]
  },
  {
   "cell_type": "code",
   "execution_count": 193,
   "metadata": {},
   "outputs": [
    {
     "data": {
      "text/plain": [
       "1"
      ]
     },
     "execution_count": 193,
     "metadata": {},
     "output_type": "execute_result"
    }
   ],
   "source": [
    "len(df['num_enforced_constraints'].unique())"
   ]
  },
  {
   "cell_type": "code",
   "execution_count": 202,
   "metadata": {},
   "outputs": [
    {
     "data": {
      "text/plain": [
       "<matplotlib.colors.LinearSegmentedColormap at 0x7f553acf4048>"
      ]
     },
     "execution_count": 202,
     "metadata": {},
     "output_type": "execute_result"
    }
   ],
   "source": [
    "pal = sns.cubehelix_palette(1 +\n",
    "                            len(df['num_enforced_constraints'].unique()),\n",
    "                            as_cmap=True,\n",
    "                            rot=-.5,\n",
    "                            reverse=False)\n",
    "pal = sns.dark_palette('seagreen',\n",
    "                       as_cmap=True,\n",
    "                       reverse=True)\n",
    "\n",
    "# pal = pal.as_hex()\n",
    "pal\n"
   ]
  },
  {
   "cell_type": "code",
   "execution_count": 203,
   "metadata": {
    "collapsed": false
   },
   "outputs": [
    {
     "data": {
      "image/png": "[encoded data removed]",
      "text/plain": [
       "<matplotlib.figure.Figure at 0x7f553aebf0b8>"
      ]
     },
     "metadata": {},
     "output_type": "display_data"
    }
   ],
   "source": [
    "fig, ax = plt.subplots()\n",
    "\n",
    "xymin = min( min(df['no_constraint']), min(df['constraint'])) - 2\n",
    "xymax = max( max(df['no_constraint']), max(df['constraint'])) + 2\n",
    "plt.axis([xymin, xymax, xymin, xymax])\n",
    "\n",
    "# xmin = min(df['no_constraint']) - 2\n",
    "# xmax = max(df['no_constraint']) + 2\n",
    "# \n",
    "# ymin = min(df['constraint']) - 2\n",
    "# ymax = max(df['constraint']) + 2\n",
    "# \n",
    "# plt.axis([xmin, xmax, ymin, ymax])\n",
    "\n",
    "sns.regplot(x='no_constraint',\n",
    "            y='no_constraint',\n",
    "            data=df,\n",
    "            fit_reg=True,\n",
    "            marker='',\n",
    "            ax=ax,\n",
    "            )\n",
    "\n",
    "sns.regplot(x='no_constraint',\n",
    "            y='constraint',\n",
    "            data=df,\n",
    "            marker='',\n",
    "            fit_reg=True,\n",
    "            ax=ax\n",
    "            )\n",
    "\n",
    "ax = ax.scatter(x=df['no_constraint'],\n",
    "                y=df['constraint'],\n",
    "                c=df['num_enforced_constraints'],\n",
    "                s=4,\n",
    "                cmap=pal)\n"
   ]
  },
  {
   "cell_type": "code",
   "execution_count": null,
   "metadata": {},
   "outputs": [],
   "source": []
  }
 ],
 "metadata": {
  "kernelspec": {
   "display_name": "Python 3",
   "language": "python",
   "name": "python3"
  },
  "language_info": {
   "codemirror_mode": {
    "name": "ipython",
    "version": 3
   },
   "file_extension": ".py",
   "mimetype": "text/x-python",
   "name": "python",
   "nbconvert_exporter": "python",
   "pygments_lexer": "ipython3",
   "version": "3.6.0"
  }
 },
 "nbformat": 4,
 "nbformat_minor": 2
}
